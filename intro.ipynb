{
 "cells": [
  {
   "cell_type": "code",
   "execution_count": 2,
   "metadata": {},
   "outputs": [],
   "source": [
    "import numpy as np\n",
    "import h5py"
   ]
  },
  {
   "cell_type": "code",
   "execution_count": 5,
   "metadata": {},
   "outputs": [],
   "source": [
    "hdf = h5py.File('data/quark-gluon_data-set_n139306.hdf5','r')\n",
    "dset_X_jets = hdf['X_jets']\n",
    "dset_m0 = hdf['m0']\n",
    "dset_pt = hdf['pt']\n",
    "dset_y = hdf['y']"
   ]
  },
  {
   "cell_type": "code",
   "execution_count": 19,
   "metadata": {},
   "outputs": [],
   "source": [
    "from PIL import Image\n",
    "X_jets =[]\n",
    "m0 = []\n",
    "pt = []\n",
    "for i in range(20):\n",
    "    data = dset_X_jets[i]\n",
    "    Img = Image.fromarray(data,'RGB')\n",
    "    Img.save(\"img/\"+str(i)+\"Xjets.png\")\n",
    "    # data = dset_m0[i]\n",
    "    # Img=Image.fromarray(data,'RGB')\n",
    "    # Img.save(\"img/.\"+str(i)+\"m0.png\")\n",
    "    # data = dset_pt[i]\n",
    "    # Img=Image.fromarray(data,'RGB')\n",
    "    # Img.save(\"img/.\"+str(i)+\"pt.png\")\n"
   ]
  }
 ],
 "metadata": {
  "kernelspec": {
   "display_name": "env",
   "language": "python",
   "name": "python3"
  },
  "language_info": {
   "codemirror_mode": {
    "name": "ipython",
    "version": 3
   },
   "file_extension": ".py",
   "mimetype": "text/x-python",
   "name": "python",
   "nbconvert_exporter": "python",
   "pygments_lexer": "ipython3",
   "version": "3.9.15"
  },
  "orig_nbformat": 4,
  "vscode": {
   "interpreter": {
    "hash": "8ae64c7fbc3464913fb316c38dc509cbfbfe543098f8e927163d0622cd589dcd"
   }
  }
 },
 "nbformat": 4,
 "nbformat_minor": 2
}
